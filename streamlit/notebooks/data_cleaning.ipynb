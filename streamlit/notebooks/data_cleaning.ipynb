{
 "cells": [
  {
   "cell_type": "code",
   "execution_count": 2,
   "metadata": {},
   "outputs": [],
   "source": [
    "import pandas as pd"
   ]
  },
  {
   "cell_type": "code",
   "execution_count": 41,
   "metadata": {},
   "outputs": [],
   "source": [
    "amenities = pd.read_csv(\"../../data/amenities.csv\", sep=';')\n",
    "geolocation = pd.read_csv(\"../../data/geolocation.csv\", sep=';')\n",
    "market_analysis = pd.read_csv(\"../../data/market_analysis_2019.csv\", sep=';')\n",
    "\n",
    "# Remove rows where 'revenue' is NaN, remove commas, and convert to integer\n",
    "market_analysis = market_analysis.dropna(subset=['revenue'])\n",
    "market_analysis['revenue'] = market_analysis['revenue'].str.replace(',', '').astype(int)\n"
   ]
  },
  {
   "cell_type": "code",
   "execution_count": 54,
   "metadata": {},
   "outputs": [],
   "source": [
    "data = amenities.merge(geolocation,on=[\"unified_id\",\"month\"], how=\"left\")\n"
   ]
  },
  {
   "cell_type": "code",
   "execution_count": 45,
   "metadata": {},
   "outputs": [
    {
     "name": "stderr",
     "output_type": "stream",
     "text": [
      "/tmp/ipykernel_31538/3084975064.py:1: FutureWarning: The default value of numeric_only in DataFrameGroupBy.sum is deprecated. In a future version, numeric_only will default to False. Either specify numeric_only or select only columns which should be valid for the function.\n",
      "  agg_market_analysis = market_analysis.groupby([\"unified_id\", \"city\", \"bedrooms\", \"guests\"]).sum()[[\"revenue\"]]\n"
     ]
    }
   ],
   "source": [
    "agg_market_analysis = market_analysis.groupby([\"unified_id\", \"city\", \"bedrooms\", \"guests\"]).sum()[[\"revenue\"]]\n"
   ]
  },
  {
   "cell_type": "code",
   "execution_count": 56,
   "metadata": {},
   "outputs": [],
   "source": [
    "data = data.merge(agg_market_analysis,on=\"unified_id\", how=\"left\")"
   ]
  },
  {
   "cell_type": "code",
   "execution_count": 59,
   "metadata": {},
   "outputs": [],
   "source": [
    "data.to_csv(\"../../data/final_data.csv\")"
   ]
  }
 ],
 "metadata": {
  "kernelspec": {
   "display_name": "Python 3",
   "language": "python",
   "name": "python3"
  },
  "language_info": {
   "codemirror_mode": {
    "name": "ipython",
    "version": 3
   },
   "file_extension": ".py",
   "mimetype": "text/x-python",
   "name": "python",
   "nbconvert_exporter": "python",
   "pygments_lexer": "ipython3",
   "version": "3.10.6"
  }
 },
 "nbformat": 4,
 "nbformat_minor": 2
}
